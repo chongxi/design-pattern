{
 "cells": [
  {
   "cell_type": "markdown",
   "metadata": {},
   "source": [
    "### *args: list of args"
   ]
  },
  {
   "cell_type": "code",
   "execution_count": 33,
   "metadata": {
    "ExecuteTime": {
     "end_time": "2016-05-22T20:06:22.465606",
     "start_time": "2016-05-22T20:06:22.461136"
    },
    "collapsed": false
   },
   "outputs": [],
   "source": [
    "def test_var_args(farg, *args):\n",
    "    print \"formal arg:\", farg\n",
    "    for arg in args:\n",
    "        print \"another arg:\", arg"
   ]
  },
  {
   "cell_type": "code",
   "execution_count": 34,
   "metadata": {
    "ExecuteTime": {
     "end_time": "2016-05-22T20:06:22.471710",
     "start_time": "2016-05-22T20:06:22.468134"
    },
    "collapsed": false
   },
   "outputs": [
    {
     "name": "stdout",
     "output_type": "stream",
     "text": [
      "formal arg: 1\n",
      "another arg: two\n",
      "another arg: 3\n"
     ]
    }
   ],
   "source": [
    "test_var_args(1, \"two\", 3)"
   ]
  },
  {
   "cell_type": "code",
   "execution_count": null,
   "metadata": {
    "collapsed": true
   },
   "outputs": [],
   "source": []
  },
  {
   "cell_type": "markdown",
   "metadata": {},
   "source": [
    "### **kwargs: dictionary of args"
   ]
  },
  {
   "cell_type": "code",
   "execution_count": 35,
   "metadata": {
    "ExecuteTime": {
     "end_time": "2016-05-22T20:06:25.794128",
     "start_time": "2016-05-22T20:06:25.789615"
    },
    "collapsed": true
   },
   "outputs": [],
   "source": [
    "def test_var_kwargs(farg, **kwargs):\n",
    "    print \"formal arg:\", farg\n",
    "    for key in kwargs:\n",
    "        print \"another keyword arg: {0}: {1}\".format(key, kwargs[key])"
   ]
  },
  {
   "cell_type": "code",
   "execution_count": 36,
   "metadata": {
    "ExecuteTime": {
     "end_time": "2016-05-22T20:06:25.800270",
     "start_time": "2016-05-22T20:06:25.796577"
    },
    "collapsed": false
   },
   "outputs": [
    {
     "name": "stdout",
     "output_type": "stream",
     "text": [
      "formal arg: 1\n",
      "another keyword arg: myarg2: two\n",
      "another keyword arg: myarg3: 3\n"
     ]
    }
   ],
   "source": [
    "test_var_kwargs(farg=1, myarg2=\"two\", myarg3=3)"
   ]
  },
  {
   "cell_type": "code",
   "execution_count": null,
   "metadata": {
    "collapsed": true
   },
   "outputs": [],
   "source": []
  },
  {
   "cell_type": "code",
   "execution_count": null,
   "metadata": {
    "collapsed": true
   },
   "outputs": [],
   "source": []
  },
  {
   "cell_type": "code",
   "execution_count": null,
   "metadata": {
    "collapsed": true
   },
   "outputs": [],
   "source": []
  },
  {
   "cell_type": "markdown",
   "metadata": {},
   "source": [
    "### Using *args and **kwargs when calling a function"
   ]
  },
  {
   "cell_type": "code",
   "execution_count": 37,
   "metadata": {
    "ExecuteTime": {
     "end_time": "2016-05-22T20:06:29.044594",
     "start_time": "2016-05-22T20:06:29.038686"
    },
    "collapsed": false
   },
   "outputs": [
    {
     "name": "stdout",
     "output_type": "stream",
     "text": [
      "arg1: 1\n",
      "arg2: two\n",
      "arg3: 3\n"
     ]
    }
   ],
   "source": [
    "def test_var_args_call(arg1, arg2, arg3):\n",
    "    print \"arg1:\", arg1\n",
    "    print \"arg2:\", arg2\n",
    "    print \"arg3:\", arg3\n",
    "\n",
    "args = (\"two\", 3)\n",
    "test_var_args_call(1, *args)"
   ]
  },
  {
   "cell_type": "code",
   "execution_count": 53,
   "metadata": {
    "ExecuteTime": {
     "end_time": "2016-05-22T20:15:09.512265",
     "start_time": "2016-05-22T20:15:09.505508"
    },
    "collapsed": false
   },
   "outputs": [
    {
     "name": "stdout",
     "output_type": "stream",
     "text": [
      "arg1: 1\n",
      "arg2: two\n",
      "arg3: 3\n"
     ]
    }
   ],
   "source": [
    "def test_var_args_call(arg1, arg2, arg3):\n",
    "    print \"arg1:\", arg1\n",
    "    print \"arg2:\", arg2\n",
    "    print \"arg3:\", arg3\n",
    "\n",
    "kwargs = {\"arg3\": 3, \"arg2\": \"two\"}\n",
    "test_var_args_call(arg1=1, **kwargs)"
   ]
  },
  {
   "cell_type": "code",
   "execution_count": 51,
   "metadata": {
    "ExecuteTime": {
     "end_time": "2016-05-22T20:11:34.251592",
     "start_time": "2016-05-22T20:11:34.245399"
    },
    "collapsed": false
   },
   "outputs": [
    {
     "name": "stdout",
     "output_type": "stream",
     "text": [
      "arg0: 3\n",
      "arg1: two\n",
      "arg2: 3.14159\n"
     ]
    }
   ],
   "source": [
    "def test_var_args_call(**kwargs):\n",
    "    for key in kwargs:\n",
    "        print \"{0}: {1}\".format(key, kwargs[key])\n",
    "\n",
    "args = {\"arg0\": 3, \"arg1\": \"two\", \"arg2\": 3.14159}\n",
    "test_var_args_call(**args)"
   ]
  },
  {
   "cell_type": "code",
   "execution_count": null,
   "metadata": {
    "collapsed": true
   },
   "outputs": [],
   "source": []
  }
 ],
 "metadata": {
  "kernelspec": {
   "display_name": "Python 2",
   "language": "python",
   "name": "python2"
  },
  "language_info": {
   "codemirror_mode": {
    "name": "ipython",
    "version": 2
   },
   "file_extension": ".py",
   "mimetype": "text/x-python",
   "name": "python",
   "nbconvert_exporter": "python",
   "pygments_lexer": "ipython2",
   "version": "2.7.11"
  }
 },
 "nbformat": 4,
 "nbformat_minor": 0
}
