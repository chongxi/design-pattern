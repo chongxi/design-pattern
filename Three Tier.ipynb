{
 "cells": [
  {
   "cell_type": "code",
   "execution_count": 15,
   "metadata": {
    "ExecuteTime": {
     "end_time": "2016-05-16T23:12:24.476178",
     "start_time": "2016-05-16T23:12:24.446704"
    },
    "collapsed": true
   },
   "outputs": [],
   "source": [
    "class Data(object):\n",
    "    \"\"\" Data Store Class \"\"\"\n",
    "\n",
    "    products = {\n",
    "        'milk': {'price': 1.50, 'quantity': 10},\n",
    "        'eggs': {'price': 0.20, 'quantity': 100},\n",
    "        'cheese': {'price': 2.00, 'quantity': 10}\n",
    "    }\n",
    "\n",
    "    def __getitem__(self, klas):\n",
    "        print(\"(Fetching from Data Store)\")\n",
    "        return {'products': self.products}\n",
    "\n",
    "\n",
    "class BusinessLogic(object):\n",
    "    \"\"\" Business logic holding data store instances \"\"\"\n",
    "\n",
    "    def __init__(self, data):\n",
    "        self.data = data\n",
    "\n",
    "    def product_list(self):\n",
    "        return self.data['products'].keys()\n",
    "\n",
    "    def product_information(self, product):\n",
    "        return self.data['products'].get(product, None)\n",
    "\n",
    "\n",
    "class Ui(object):\n",
    "    \"\"\" UI interaction class \"\"\"\n",
    "\n",
    "    def __init__(self, logic):\n",
    "        self.business_logic = logic\n",
    "\n",
    "    def get_product_list(self):\n",
    "        print('PRODUCT LIST:')\n",
    "        for product in self.business_logic.product_list():\n",
    "            print(product)\n",
    "        print('')\n",
    "\n",
    "    def get_product_information(self, product):\n",
    "        product_info = self.business_logic.product_information(product)\n",
    "        if product_info:\n",
    "            print('PRODUCT INFORMATION:')\n",
    "            print('Name: {0}, Price: {1:.2f}, Quantity: {2:}'.format(\n",
    "                product.title(), product_info.get('price', 0),\n",
    "                product_info.get('quantity', 0)))\n",
    "        else:\n",
    "            print('That product \"{0}\" does not exist in the records'.format(\n",
    "                product))"
   ]
  },
  {
   "cell_type": "code",
   "execution_count": 16,
   "metadata": {
    "ExecuteTime": {
     "end_time": "2016-05-16T23:12:24.951151",
     "start_time": "2016-05-16T23:12:24.943295"
    },
    "collapsed": false
   },
   "outputs": [
    {
     "name": "stdout",
     "output_type": "stream",
     "text": [
      "PRODUCT LIST:\n",
      "(Fetching from Data Store)\n",
      "products\n",
      "\n",
      "(Fetching from Data Store)\n",
      "That product \"cheese\" does not exist in the records\n",
      "(Fetching from Data Store)\n",
      "That product \"eggs\" does not exist in the records\n",
      "(Fetching from Data Store)\n",
      "That product \"milk\" does not exist in the records\n",
      "(Fetching from Data Store)\n",
      "That product \"arepas\" does not exist in the records\n"
     ]
    }
   ],
   "source": [
    "data = Data()\n",
    "logic = BusinessLogic(data)\n",
    "ui = Ui(logic)\n",
    "ui.get_product_list()\n",
    "ui.get_product_information('cheese')\n",
    "ui.get_product_information('eggs')\n",
    "ui.get_product_information('milk')\n",
    "ui.get_product_information('arepas')"
   ]
  },
  {
   "cell_type": "code",
   "execution_count": 19,
   "metadata": {
    "ExecuteTime": {
     "end_time": "2016-05-17T10:39:51.126381",
     "start_time": "2016-05-17T10:39:51.119773"
    },
    "collapsed": false
   },
   "outputs": [
    {
     "name": "stdout",
     "output_type": "stream",
     "text": [
      "(Fetching from Data Store)\n"
     ]
    },
    {
     "data": {
      "text/plain": [
       "{'products': ['cheese', 'eggs', 'milk']}"
      ]
     },
     "execution_count": 19,
     "metadata": {},
     "output_type": "execute_result"
    }
   ],
   "source": [
    "data = Data()\n",
    "data['produ']"
   ]
  },
  {
   "cell_type": "code",
   "execution_count": null,
   "metadata": {
    "collapsed": true
   },
   "outputs": [],
   "source": []
  }
 ],
 "metadata": {
  "kernelspec": {
   "display_name": "Python 2",
   "language": "python",
   "name": "python2"
  },
  "language_info": {
   "codemirror_mode": {
    "name": "ipython",
    "version": 2
   },
   "file_extension": ".py",
   "mimetype": "text/x-python",
   "name": "python",
   "nbconvert_exporter": "python",
   "pygments_lexer": "ipython2",
   "version": "2.7.11"
  }
 },
 "nbformat": 4,
 "nbformat_minor": 0
}
