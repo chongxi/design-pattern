{
 "cells": [
  {
   "cell_type": "code",
   "execution_count": 1,
   "metadata": {
    "ExecuteTime": {
     "end_time": "2016-05-16T23:13:37.249868",
     "start_time": "2016-05-16T23:13:37.214567"
    },
    "collapsed": true
   },
   "outputs": [],
   "source": [
    "import time\n",
    "\n",
    "SLEEP = 0.5\n",
    "\n",
    "\n",
    "# Complex Parts\n",
    "class TC1:\n",
    "\n",
    "    def run(self):\n",
    "        print(\"###### In Test 1 ######\")\n",
    "        time.sleep(SLEEP)\n",
    "        print(\"Setting up\")\n",
    "        time.sleep(SLEEP)\n",
    "        print(\"Running test\")\n",
    "        time.sleep(SLEEP)\n",
    "        print(\"Tearing down\")\n",
    "        time.sleep(SLEEP)\n",
    "        print(\"Test Finished\\n\")\n",
    "\n",
    "\n",
    "class TC2:\n",
    "\n",
    "    def run(self):\n",
    "        print(\"###### In Test 2 ######\")\n",
    "        time.sleep(SLEEP)\n",
    "        print(\"Setting up\")\n",
    "        time.sleep(SLEEP)\n",
    "        print(\"Running test\")\n",
    "        time.sleep(SLEEP)\n",
    "        print(\"Tearing down\")\n",
    "        time.sleep(SLEEP)\n",
    "        print(\"Test Finished\\n\")\n",
    "\n",
    "\n",
    "class TC3:\n",
    "\n",
    "    def run(self):\n",
    "        print(\"###### In Test 3 ######\")\n",
    "        time.sleep(SLEEP)\n",
    "        print(\"Setting up\")\n",
    "        time.sleep(SLEEP)\n",
    "        print(\"Running test\")\n",
    "        time.sleep(SLEEP)\n",
    "        print(\"Tearing down\")\n",
    "        time.sleep(SLEEP)\n",
    "        print(\"Test Finished\\n\")\n",
    "\n",
    "\n",
    "# Facade\n",
    "class TestRunner:\n",
    "\n",
    "    def __init__(self):\n",
    "        self.tc1 = TC1()\n",
    "        self.tc2 = TC2()\n",
    "        self.tc3 = TC3()\n",
    "        self.tests = [self.tc1, self.tc2, self.tc3]\n",
    "\n",
    "    def runAll(self):\n",
    "        [i.run() for i in self.tests]"
   ]
  },
  {
   "cell_type": "code",
   "execution_count": 3,
   "metadata": {
    "ExecuteTime": {
     "end_time": "2016-05-16T23:13:54.639321",
     "start_time": "2016-05-16T23:13:48.588498"
    },
    "collapsed": false
   },
   "outputs": [
    {
     "name": "stdout",
     "output_type": "stream",
     "text": [
      "###### In Test 1 ######\n",
      "Setting up\n",
      "Running test\n",
      "Tearing down\n",
      "Test Finished\n",
      "\n",
      "###### In Test 2 ######\n",
      "Setting up\n",
      "Running test\n",
      "Tearing down\n",
      "Test Finished\n",
      "\n",
      "###### In Test 3 ######\n",
      "Setting up\n",
      "Running test\n",
      "Tearing down\n",
      "Test Finished\n",
      "\n"
     ]
    }
   ],
   "source": [
    "testrunner = TestRunner()\n",
    "testrunner.runAll()"
   ]
  },
  {
   "cell_type": "code",
   "execution_count": null,
   "metadata": {
    "collapsed": true
   },
   "outputs": [],
   "source": []
  }
 ],
 "metadata": {
  "kernelspec": {
   "display_name": "Python 2",
   "language": "python",
   "name": "python2"
  },
  "language_info": {
   "codemirror_mode": {
    "name": "ipython",
    "version": 2
   },
   "file_extension": ".py",
   "mimetype": "text/x-python",
   "name": "python",
   "nbconvert_exporter": "python",
   "pygments_lexer": "ipython2",
   "version": "2.7.11"
  }
 },
 "nbformat": 4,
 "nbformat_minor": 0
}
