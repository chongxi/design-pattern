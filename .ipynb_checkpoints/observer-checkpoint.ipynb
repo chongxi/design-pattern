{
 "cells": [
  {
   "cell_type": "code",
   "execution_count": 37,
   "metadata": {
    "ExecuteTime": {
     "end_time": "2016-05-22T20:16:04.726191",
     "start_time": "2016-05-22T20:16:04.717436"
    },
    "collapsed": true
   },
   "outputs": [],
   "source": [
    "class Subscriber:\n",
    "    def __init__(self, name):\n",
    "        self.name = name\n",
    "    def update(self, message):\n",
    "        print('{} got message \"{}\"'.format(self.name, message))\n",
    "        \n",
    "class Publisher:\n",
    "    def __init__(self):\n",
    "        self.subscribers = set()\n",
    "    def register(self, who):\n",
    "        self.subscribers.add(who)\n",
    "    def unregister(self, who):\n",
    "        self.subscribers.discard(who)\n",
    "    def dispatch(self, message):\n",
    "        for subscriber in self.subscribers:\n",
    "            subscriber.update(message)"
   ]
  },
  {
   "cell_type": "code",
   "execution_count": 38,
   "metadata": {
    "ExecuteTime": {
     "end_time": "2016-05-22T20:16:05.299394",
     "start_time": "2016-05-22T20:16:05.290510"
    },
    "collapsed": false
   },
   "outputs": [
    {
     "name": "stdout",
     "output_type": "stream",
     "text": [
      "Alice got message \"It's lunchtime!\"\n",
      "Bob got message \"It's lunchtime!\"\n",
      "John got message \"It's lunchtime!\"\n",
      "Alice got message \"Time for dinner\"\n",
      "Bob got message \"Time for dinner\"\n"
     ]
    }
   ],
   "source": [
    "pub = Publisher()\n",
    "\n",
    "bob = Subscriber('Bob')\n",
    "alice = Subscriber('Alice')\n",
    "john = Subscriber('John')\n",
    "\n",
    "pub.register(bob)\n",
    "pub.register(alice)\n",
    "pub.register(john)\n",
    "\n",
    "pub.dispatch(\"It's lunchtime!\")\n",
    "\n",
    "pub.unregister(john)\n",
    "\n",
    "pub.dispatch(\"Time for dinner\")"
   ]
  },
  {
   "cell_type": "code",
   "execution_count": null,
   "metadata": {
    "collapsed": true
   },
   "outputs": [],
   "source": []
  },
  {
   "cell_type": "code",
   "execution_count": 1,
   "metadata": {
    "ExecuteTime": {
     "end_time": "2016-05-22T20:20:22.287684",
     "start_time": "2016-05-22T20:20:22.252539"
    },
    "collapsed": true
   },
   "outputs": [],
   "source": [
    "class SubscriberOne:\n",
    "    def __init__(self, name):\n",
    "        self.name = name\n",
    "    def update(self, message):\n",
    "        print('{} got message \"{}\"'.format(self.name, message))\n",
    "class SubscriberTwo:\n",
    "    def __init__(self, name):\n",
    "        self.name = name\n",
    "    def receive(self, message):\n",
    "        print('{} got message \"{}\"'.format(self.name, message))\n",
    "        \n",
    "class Publisher:\n",
    "    def __init__(self):\n",
    "        self.subscribers = dict()\n",
    "    def register(self, who, callback=None):\n",
    "        if callback == None:\n",
    "            callback = getattr(who, 'update')\n",
    "        self.subscribers[who] = callback\n",
    "    def unregister(self, who):\n",
    "        del self.subscribers[who]\n",
    "    def dispatch(self, message):\n",
    "        for subscriber, callback in self.subscribers.items():\n",
    "            callback(message)"
   ]
  },
  {
   "cell_type": "code",
   "execution_count": 11,
   "metadata": {
    "ExecuteTime": {
     "end_time": "2016-05-22T20:27:32.897833",
     "start_time": "2016-05-22T20:26:47.454269"
    },
    "collapsed": false
   },
   "outputs": [
    {
     "name": "stdout",
     "output_type": "stream",
     "text": [
      "--Return--\n",
      "> <ipython-input-11-084c1d64f60e>(2)<module>()->None\n",
      "-> pdb.set_trace()\n",
      "(Pdb) b 13\n",
      "Breakpoint 3 at <ipython-input-11-084c1d64f60e>:13\n",
      "(Pdb) l\n",
      "  1  \timport pdb; \n",
      "  2  ->\tpdb.set_trace()\n",
      "  3  \t\n",
      "  4  \tpub = Publisher()\n",
      "  5  \tbob = SubscriberOne('Bob')\n",
      "  6  \talice = SubscriberTwo('Alice')\n",
      "  7  \tjohn = SubscriberOne('John')\n",
      "  8  \t\n",
      "  9  \tpub.register(bob, bob.update)\n",
      " 10  \tpub.register(alice, alice.receive)\n",
      " 11  \tpub.register(john)\n",
      "(Pdb) c\n",
      "> <ipython-input-11-084c1d64f60e>(13)<module>()->None\n",
      "-> pub.dispatch(\"It's lunchtime!\")\n",
      "(Pdb) l\n",
      "  8  \t\n",
      "  9  \tpub.register(bob, bob.update)\n",
      " 10  \tpub.register(alice, alice.receive)\n",
      " 11  \tpub.register(john)\n",
      " 12  \t\n",
      " 13 B->\tpub.dispatch(\"It's lunchtime!\")\n",
      " 14  \tpub.unregister(john)\n",
      " 15  \tpub.dispatch(\"Time for dinner\")\n",
      "[EOF]\n",
      "(Pdb) n\n",
      "John got message \"It's lunchtime!\"\n",
      "Bob got message \"It's lunchtime!\"\n",
      "Alice got message \"It's lunchtime!\"\n",
      "--Return--\n",
      "> <ipython-input-11-084c1d64f60e>(13)<module>()->None\n",
      "-> pub.dispatch(\"It's lunchtime!\")\n",
      "(Pdb) n\n",
      "> /Users/Chongxi/anaconda/lib/python2.7/site-packages/IPython/core/interactiveshell.py(3003)run_ast_nodes()\n",
      "-> for i, node in enumerate(to_run_exec):\n",
      "(Pdb) c\n",
      "Bob got message \"Time for dinner\"\n",
      "Alice got message \"Time for dinner\"\n"
     ]
    }
   ],
   "source": [
    "import pdb; \n",
    "pdb.set_trace()\n",
    "\n",
    "pub = Publisher()\n",
    "bob = SubscriberOne('Bob')\n",
    "alice = SubscriberTwo('Alice')\n",
    "john = SubscriberOne('John')\n",
    "\n",
    "pub.register(bob, bob.update)\n",
    "pub.register(alice, alice.receive)\n",
    "pub.register(john)\n",
    "\n",
    "pub.dispatch(\"It's lunchtime!\")\n",
    "pub.unregister(john)\n",
    "pub.dispatch(\"Time for dinner\")"
   ]
  },
  {
   "cell_type": "code",
   "execution_count": 1,
   "metadata": {
    "ExecuteTime": {
     "end_time": "2016-05-16T22:58:21.633580",
     "start_time": "2016-05-16T22:58:21.618028"
    },
    "collapsed": true
   },
   "outputs": [],
   "source": [
    "class Subscriber:\n",
    "    def __init__(self, name):\n",
    "        self.name = name\n",
    "    def update(self, message):\n",
    "        print('{} got message \"{}\"'.format(self.name, message))\n",
    "        \n",
    "class Publisher:\n",
    "    def __init__(self, events):\n",
    "        # maps event names to subscribers\n",
    "        # str -> dict\n",
    "        self.events = { event : dict()\n",
    "                          for event in events }\n",
    "    def get_subscribers(self, event):\n",
    "        return self.events[event]\n",
    "    def register(self, event, who, callback=None):\n",
    "        if callback == None:\n",
    "            callback = getattr(who, 'update')\n",
    "        self.get_subscribers(event)[who] = callback\n",
    "    def unregister(self, event, who):\n",
    "        del self.get_subscribers(event)[who]\n",
    "    def dispatch(self, event, message):\n",
    "        for subscriber, callback in self.get_subscribers(event).items():\n",
    "            callback(message)"
   ]
  },
  {
   "cell_type": "code",
   "execution_count": 2,
   "metadata": {
    "ExecuteTime": {
     "end_time": "2016-05-16T22:58:22.587147",
     "start_time": "2016-05-16T22:58:22.577737"
    },
    "collapsed": false
   },
   "outputs": [
    {
     "name": "stdout",
     "output_type": "stream",
     "text": [
      "John got message \"It's lunchtime!\"\n",
      "Bob got message \"It's lunchtime!\"\n",
      "Alice got message \"Dinner is served\"\n",
      "John got message \"Dinner is served\"\n"
     ]
    }
   ],
   "source": [
    "pub = Publisher(['lunch', 'dinner'])\n",
    "bob = Subscriber('Bob')\n",
    "alice = Subscriber('Alice')\n",
    "john = Subscriber('John')\n",
    "\n",
    "pub.register(\"lunch\", bob)\n",
    "pub.register(\"dinner\", alice)\n",
    "pub.register(\"lunch\", john)\n",
    "pub.register(\"dinner\", john)\n",
    "\n",
    "pub.dispatch(\"lunch\", \"It's lunchtime!\")\n",
    "pub.dispatch(\"dinner\", \"Dinner is served\")"
   ]
  },
  {
   "cell_type": "code",
   "execution_count": null,
   "metadata": {
    "collapsed": true
   },
   "outputs": [],
   "source": []
  },
  {
   "cell_type": "code",
   "execution_count": null,
   "metadata": {
    "collapsed": true
   },
   "outputs": [],
   "source": []
  },
  {
   "cell_type": "code",
   "execution_count": null,
   "metadata": {
    "collapsed": true
   },
   "outputs": [],
   "source": []
  },
  {
   "cell_type": "code",
   "execution_count": 12,
   "metadata": {
    "ExecuteTime": {
     "end_time": "2016-05-17T11:07:17.495016",
     "start_time": "2016-05-17T11:07:17.466038"
    },
    "collapsed": true
   },
   "outputs": [],
   "source": [
    "\"\"\"\n",
    "Reference: http://www.slideshare.net/ishraqabd/publish-subscribe-model-overview-13368808\n",
    "Author: https://github.com/HanWenfang\n",
    "\"\"\"\n",
    "\n",
    "\n",
    "class Provider:\n",
    "\n",
    "    def __init__(self):\n",
    "        self.msg_queue = []\n",
    "        self.subscribers = {}\n",
    "\n",
    "    def notify(self, msg):\n",
    "        self.msg_queue.append(msg)\n",
    "\n",
    "    def subscribe(self, msg, subscriber):\n",
    "        self.subscribers.setdefault(msg, []).append(subscriber)\n",
    "\n",
    "    def unsubscribe(self, msg, subscriber):\n",
    "        self.subscribers[msg].remove(subscriber)\n",
    "\n",
    "    def update(self):\n",
    "        for msg in self.msg_queue:\n",
    "            if msg in self.subscribers:\n",
    "                for sub in self.subscribers[msg]:\n",
    "                    sub.run(msg)\n",
    "        self.msg_queue = []\n",
    "\n",
    "\n",
    "class Publisher:\n",
    "\n",
    "    def __init__(self, msg_center):\n",
    "        self.provider = msg_center\n",
    "\n",
    "    def publish(self, msg):\n",
    "        self.provider.notify(msg)\n",
    "\n",
    "\n",
    "class Subscriber:\n",
    "\n",
    "    def __init__(self, name, msg_center):\n",
    "        self.name = name\n",
    "        self.provider = msg_center\n",
    "\n",
    "    def subscribe(self, msg):\n",
    "        self.provider.subscribe(msg, self)\n",
    "\n",
    "    def unsubscribe(self, msg):\n",
    "        self.provider.unsubscribe(msg, self)\n",
    "\n",
    "    def run(self, msg):\n",
    "        print(\"{} got {}\".format(self.name, msg))"
   ]
  },
  {
   "cell_type": "code",
   "execution_count": 13,
   "metadata": {
    "ExecuteTime": {
     "end_time": "2016-05-17T11:07:17.513267",
     "start_time": "2016-05-17T11:07:17.496850"
    },
    "collapsed": false
   },
   "outputs": [
    {
     "name": "stdout",
     "output_type": "stream",
     "text": [
      "jim got cartoon\n",
      "jack got music\n",
      "gee got movie\n",
      "jim got cartoon\n",
      "jim got cartoon\n",
      "gee got movie\n"
     ]
    }
   ],
   "source": [
    "message_center = Provider()\n",
    "\n",
    "fftv = Publisher(message_center)\n",
    "\n",
    "jim = Subscriber(\"jim\", message_center)\n",
    "jim.subscribe(\"cartoon\")\n",
    "jack = Subscriber(\"jack\", message_center)\n",
    "jack.subscribe(\"music\")\n",
    "gee = Subscriber(\"gee\", message_center)\n",
    "gee.subscribe(\"movie\")\n",
    "vani = Subscriber(\"vani\", message_center)\n",
    "vani.subscribe(\"movie\")\n",
    "vani.unsubscribe(\"movie\")\n",
    "\n",
    "fftv.publish(\"cartoon\")\n",
    "fftv.publish(\"music\")\n",
    "fftv.publish(\"ads\")\n",
    "fftv.publish(\"movie\")\n",
    "fftv.publish(\"cartoon\")\n",
    "fftv.publish(\"cartoon\")\n",
    "fftv.publish(\"movie\")\n",
    "fftv.publish(\"blank\")\n",
    "\n",
    "message_center.update()"
   ]
  },
  {
   "cell_type": "code",
   "execution_count": null,
   "metadata": {
    "collapsed": true
   },
   "outputs": [],
   "source": []
  }
 ],
 "metadata": {
  "kernelspec": {
   "display_name": "Python 2",
   "language": "python",
   "name": "python2"
  },
  "language_info": {
   "codemirror_mode": {
    "name": "ipython",
    "version": 2
   },
   "file_extension": ".py",
   "mimetype": "text/x-python",
   "name": "python",
   "nbconvert_exporter": "python",
   "pygments_lexer": "ipython2",
   "version": "2.7.11"
  }
 },
 "nbformat": 4,
 "nbformat_minor": 0
}
