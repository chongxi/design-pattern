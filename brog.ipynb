{
 "cells": [
  {
   "cell_type": "code",
   "execution_count": 5,
   "metadata": {
    "ExecuteTime": {
     "end_time": "2016-05-16T23:27:33.843779",
     "start_time": "2016-05-16T23:27:33.836868"
    },
    "collapsed": true
   },
   "outputs": [],
   "source": [
    "# a singleton with shared-state among instances\n",
    "\n",
    "class Borg:\n",
    "    __shared_state = {}\n",
    "\n",
    "    def __init__(self):\n",
    "        self.__dict__ = self.__shared_state\n",
    "        self.state = 'Init'\n",
    "\n",
    "    def __str__(self):\n",
    "        return self.state\n",
    "\n",
    "class YourBorg(Borg):\n",
    "    pass"
   ]
  },
  {
   "cell_type": "code",
   "execution_count": 6,
   "metadata": {
    "ExecuteTime": {
     "end_time": "2016-05-16T23:27:34.842018",
     "start_time": "2016-05-16T23:27:34.829538"
    },
    "collapsed": false
   },
   "outputs": [
    {
     "name": "stdout",
     "output_type": "stream",
     "text": [
      "rm1: Running\n",
      "rm2: Running\n",
      "rm1: Zombie\n",
      "rm2: Zombie\n",
      "rm1 id: 4400371184\n",
      "rm2 id: 4400459144\n",
      "rm1: Init\n",
      "rm2: Init\n",
      "rm3: Init\n"
     ]
    }
   ],
   "source": [
    "rm1 = Borg()\n",
    "rm2 = Borg()\n",
    "\n",
    "rm1.state = 'Idle'\n",
    "rm2.state = 'Running'\n",
    "\n",
    "print('rm1: {0}'.format(rm1))\n",
    "print('rm2: {0}'.format(rm2))\n",
    "\n",
    "rm2.state = 'Zombie'\n",
    "\n",
    "print('rm1: {0}'.format(rm1))\n",
    "print('rm2: {0}'.format(rm2))\n",
    "\n",
    "print('rm1 id: {0}'.format(id(rm1)))\n",
    "print('rm2 id: {0}'.format(id(rm2)))\n",
    "\n",
    "rm3 = YourBorg()\n",
    "\n",
    "print('rm1: {0}'.format(rm1))\n",
    "print('rm2: {0}'.format(rm2))\n",
    "print('rm3: {0}'.format(rm3))"
   ]
  },
  {
   "cell_type": "code",
   "execution_count": null,
   "metadata": {
    "collapsed": true
   },
   "outputs": [],
   "source": []
  }
 ],
 "metadata": {
  "kernelspec": {
   "display_name": "Python 2",
   "language": "python",
   "name": "python2"
  },
  "language_info": {
   "codemirror_mode": {
    "name": "ipython",
    "version": 2
   },
   "file_extension": ".py",
   "mimetype": "text/x-python",
   "name": "python",
   "nbconvert_exporter": "python",
   "pygments_lexer": "ipython2",
   "version": "2.7.11"
  }
 },
 "nbformat": 4,
 "nbformat_minor": 0
}
