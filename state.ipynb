{
 "cells": [
  {
   "cell_type": "code",
   "execution_count": 1,
   "metadata": {
    "ExecuteTime": {
     "end_time": "2016-05-16T23:20:07.371231",
     "start_time": "2016-05-16T23:20:07.332605"
    },
    "collapsed": true
   },
   "outputs": [],
   "source": [
    "# http://ginstrom.com/scribbles/2007/10/08/design-patterns-python-style/\n",
    "from __future__ import print_function\n",
    "\n",
    "\n",
    "class State(object):\n",
    "\n",
    "    \"\"\"Base state. This is to share functionality\"\"\"\n",
    "\n",
    "    def scan(self):\n",
    "        \"\"\"Scan the dial to the next station\"\"\"\n",
    "        self.pos += 1\n",
    "        if self.pos == len(self.stations):\n",
    "            self.pos = 0\n",
    "        print(\"Scanning... Station is\", self.stations[self.pos], self.name)\n",
    "\n",
    "\n",
    "class AmState(State):\n",
    "\n",
    "    def __init__(self, radio):\n",
    "        self.radio = radio\n",
    "        self.stations = [\"1250\", \"1380\", \"1510\"]\n",
    "        self.pos = 0\n",
    "        self.name = \"AM\"\n",
    "\n",
    "    def toggle_amfm(self):\n",
    "        print(\"Switching to FM\")\n",
    "        self.radio.state = self.radio.fmstate\n",
    "\n",
    "\n",
    "class FmState(State):\n",
    "\n",
    "    def __init__(self, radio):\n",
    "        self.radio = radio\n",
    "        self.stations = [\"81.3\", \"89.1\", \"103.9\"]\n",
    "        self.pos = 0\n",
    "        self.name = \"FM\"\n",
    "\n",
    "    def toggle_amfm(self):\n",
    "        print(\"Switching to AM\")\n",
    "        self.radio.state = self.radio.amstate\n",
    "\n",
    "\n",
    "class Radio(object):\n",
    "\n",
    "    \"\"\"A radio.     It has a scan button, and an AM/FM toggle switch.\"\"\"\n",
    "\n",
    "    def __init__(self):\n",
    "        \"\"\"We have an AM state and an FM state\"\"\"\n",
    "        self.amstate = AmState(self)\n",
    "        self.fmstate = FmState(self)\n",
    "        self.state = self.amstate\n",
    "\n",
    "    def toggle_amfm(self):\n",
    "        self.state.toggle_amfm()\n",
    "\n",
    "    def scan(self):\n",
    "        self.state.scan()"
   ]
  },
  {
   "cell_type": "code",
   "execution_count": 2,
   "metadata": {
    "ExecuteTime": {
     "end_time": "2016-05-16T23:20:11.336691",
     "start_time": "2016-05-16T23:20:11.329999"
    },
    "collapsed": false
   },
   "outputs": [
    {
     "name": "stdout",
     "output_type": "stream",
     "text": [
      "Scanning... Station is 1380 AM\n",
      "Scanning... Station is 1510 AM\n",
      "Switching to FM\n",
      "Scanning... Station is 89.1 FM\n",
      "Scanning... Station is 103.9 FM\n",
      "Scanning... Station is 81.3 FM\n",
      "Scanning... Station is 89.1 FM\n",
      "Switching to AM\n",
      "Scanning... Station is 1250 AM\n",
      "Scanning... Station is 1380 AM\n"
     ]
    }
   ],
   "source": [
    "radio = Radio()\n",
    "actions = [radio.scan] * 2 + [radio.toggle_amfm] + [radio.scan] * 2\n",
    "actions *= 2\n",
    "\n",
    "for action in actions:\n",
    "    action()"
   ]
  },
  {
   "cell_type": "code",
   "execution_count": null,
   "metadata": {
    "collapsed": true
   },
   "outputs": [],
   "source": []
  }
 ],
 "metadata": {
  "kernelspec": {
   "display_name": "Python 2",
   "language": "python",
   "name": "python2"
  },
  "language_info": {
   "codemirror_mode": {
    "name": "ipython",
    "version": 2
   },
   "file_extension": ".py",
   "mimetype": "text/x-python",
   "name": "python",
   "nbconvert_exporter": "python",
   "pygments_lexer": "ipython2",
   "version": "2.7.11"
  }
 },
 "nbformat": 4,
 "nbformat_minor": 0
}
